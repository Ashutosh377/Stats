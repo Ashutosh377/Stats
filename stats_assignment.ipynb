{
 "cells": [
  {
   "cell_type": "code",
   "execution_count": null,
   "metadata": {},
   "outputs": [],
   "source": [
    "# type your code here\n",
    "from scipy import stats\n",
    "import pandas as pd\n",
    "import numpy as np\n",
    "import math"
   ]
  },
  {
   "cell_type": "markdown",
   "metadata": {
    "collapsed": true
   },
   "source": [
    "**1. The experiment shows that the average monthly electricity consumption for a house is 458 units. The study records a total of 3206 units of electricity consumption. Calculate the duration of the experiment. Also, identify the criteria to calculate the median consumption.** \n"
   ]
  },
  {
   "cell_type": "code",
   "execution_count": null,
   "metadata": {},
   "outputs": [],
   "source": [
    "sample_space = 3206\n",
    "mean = 458\n",
    "time = sample_space / mean\n",
    "print(\"Time consumption is \", time)\n",
    "\n",
    "print(\"Median of the consumption can be found\", sample_space/2)"
   ]
  },
  {
   "cell_type": "markdown",
   "metadata": {
    "collapsed": true
   },
   "source": [
    "**2. Find the wage above which 65% of wages would lie.**\n"
   ]
  },
  {
   "cell_type": "markdown",
   "metadata": {},
   "source": [
    " Consider the wages (in dollars) of 15 workers as given below:\n",
    "\n",
    "wage = [247, 228, 352, 298, 345, 312, 300, 285, 246, 352, 297, 304, 265, 325, 276]"
   ]
  },
  {
   "cell_type": "code",
   "execution_count": null,
   "metadata": {},
   "outputs": [],
   "source": [
    "wage = pd.Series([247, 228, 352, 298, 345, 312, 300, 285, 246, 352, 297, 304, 265, 325, 276])\n",
    "\n",
    "wage.quantile(0.35)"
   ]
  },
  {
   "cell_type": "markdown",
   "metadata": {},
   "source": [
    "65% of wages are above 284.1 dollars."
   ]
  },
  {
   "cell_type": "markdown",
   "metadata": {
    "collapsed": true
   },
   "source": [
    "**3. Jimmy requires 38 minutes on average, with a standard deviation of 5 minutes to distribute the newspapers. On the other hand, Richard requires 27 minutes on average, with a standard deviation of 6 minutes to distribute the newspapers. Identify most consistent distributor.**\n"
   ]
  },
  {
   "cell_type": "code",
   "execution_count": null,
   "metadata": {
    "scrolled": true
   },
   "outputs": [],
   "source": [
    "j_avg = 38\n",
    "j_std = 5\n",
    "\n",
    "r_avg = 27\n",
    "r_std = 6\n",
    "\n",
    "j_cv = (j_std/j_avg)*100\n",
    "r_cv = (r_std/r_avg)*100\n",
    " \n",
    "print('Jimmy:', j_cv)\n",
    "print('Richard:', r_cv)"
   ]
  },
  {
   "cell_type": "markdown",
   "metadata": {
    "collapsed": true
   },
   "source": [
    "**4. Identify the extreme weights from the given list of weights using the interquartile range.**"
   ]
  },
  {
   "cell_type": "markdown",
   "metadata": {},
   "source": [
    "Consider the weights (in kg) of 10 students as given below:\n",
    "\n",
    "weight = [14.7, 15.2, 39.8, 44.5, 21.2, 28.5, 35.2, 19.7, 40.4, 16.5]"
   ]
  },
  {
   "cell_type": "code",
   "execution_count": null,
   "metadata": {},
   "outputs": [],
   "source": [
    "weight = pd.Series([44.7, 55.2, 49.8, 44.5, 15.2, 78.5, 75.2, 19.7, 50.4, 46.5])\n",
    "Q1 = weight.quantile(0.25)\n",
    "Q3 = weight.quantile(0.75)\n",
    "IQR = Q3 - Q1\n",
    "  \n",
    "outliers = weight[(weight < (Q1 - 1.5 * IQR)) | (weight > (Q3 + 1.5 * IQR))]\n",
    "\n",
    "outliers"
   ]
  },
  {
   "cell_type": "markdown",
   "metadata": {
    "collapsed": true
   },
   "source": [
    "**5. A car showroom in Ohio exhibits a total of 12 cars of different brands. Identify the type of skewness in the showroom prices of cars.**\n"
   ]
  },
  {
   "cell_type": "markdown",
   "metadata": {},
   "source": [
    "Consider the prices (in dollars) for 12 cars as given below:\n",
    "\n",
    "price = [14751, 16422, 15398, 9445, 12589, 11687, 10692, 8475, 11184, 9961, 12898, 11905]"
   ]
  },
  {
   "cell_type": "code",
   "execution_count": null,
   "metadata": {},
   "outputs": [],
   "source": [
    "price = pd.Series([14751, 16420, 15398, 9445, 12589, 11687, 10692, 8775, 11184, 9961, 12898, 11905])\n",
    "\n",
    "mean = (np.mean(price))\n",
    "mean\n"
   ]
  },
  {
   "cell_type": "code",
   "execution_count": null,
   "metadata": {},
   "outputs": [],
   "source": [
    "median=(\"median:\",np.median(price))\n",
    "median"
   ]
  },
  {
   "cell_type": "code",
   "execution_count": null,
   "metadata": {},
   "outputs": [],
   "source": [
    "std_dvn=np.std(price)\n",
    "std_dvn"
   ]
  },
  {
   "cell_type": "code",
   "execution_count": null,
   "metadata": {},
   "outputs": [],
   "source": [
    "sample_space = 3206\n",
    "\n",
    "time = sample_space / mean\n",
    "print(\"Time consumption is \", time)\n",
    "\n",
    "print(\"Median of the consumption can be found\", sample_space/2)"
   ]
  },
  {
   "cell_type": "markdown",
   "metadata": {
    "collapsed": true
   },
   "source": [
    "**6. A company offers its customers to take a vehicle and an eduacational loan. A study shows that the probability that a customer takes a vehicle loan is 0.35, the probability that a customer takes an educational loan is 0.46 and the probability that a customer takes at least one of the loan is 0.59. Find the probability that a customer takes both vehicle and educational loans.**\n"
   ]
  },
  {
   "cell_type": "code",
   "execution_count": null,
   "metadata": {},
   "outputs": [],
   "source": [
    "prob_vechical = 0.35\n",
    "prob_education = 0.46\n",
    "prob_of_atleastone = 0.59\n",
    "\n",
    "print(round((prob_vechical+prob_education-prob_of_atleastone),2))"
   ]
  },
  {
   "cell_type": "markdown",
   "metadata": {
    "collapsed": true
   },
   "source": [
    "**7. Consider two independent events X and Y. If the probability of occurrence of event X is 0.4 and the probability of occurrence of at least one event is 0.6. Find the probability of occurrence of event Y.**\n"
   ]
  },
  {
   "cell_type": "code",
   "execution_count": null,
   "metadata": {},
   "outputs": [],
   "source": [
    "prob_X = 0.4\n",
    "prob_XY = 0.6\n",
    "prob_Y = (prob_XY - prob_X) / (1 - prob_X)\n",
    "prob_Y"
   ]
  },
  {
   "cell_type": "markdown",
   "metadata": {
    "collapsed": true
   },
   "source": [
    "**8. Consider a vending machine containing 6 boxes each of four different juice flavors (Mango, Apple, Guava and Kiwi). Find the probability that the juice box picked is either of Mango or Guava flavor.**                \n"
   ]
  },
  {
   "cell_type": "code",
   "execution_count": null,
   "metadata": {},
   "outputs": [],
   "source": [
    "box = 6\n",
    "total_box = 6*4\n",
    "\n",
    "mango =box/total_box\n",
    "guava = box/total_box\n",
    "\n",
    "print(\"The probability that the juice box picked is either of Mango or Guava flavor.\",mango+guava)"
   ]
  },
  {
   "cell_type": "markdown",
   "metadata": {
    "collapsed": true
   },
   "source": [
    "**9. Consider a student appearing for 3 different exams either pass or fail in each exam. Let a marginal probability of a student passing the Economics, Mathematics and German exam be 0.67. The probability that the student fails in the Economics exam is 0.10 and the probability that the student fails in the German exam is 0.09. Find the probability that a student fails in the Mathematics exam.**\n"
   ]
  },
  {
   "cell_type": "code",
   "execution_count": null,
   "metadata": {},
   "outputs": [],
   "source": [
    "prob_pass = 0.67\n",
    "prob_fail = 1-prob_pass\n",
    "\n",
    "prob_fail_A = 0.10\n",
    "prob_fail_B = 0.09\n",
    "\n",
    "prob_fail_C = prob_fail - prob_fail_A - prob_fail_B\n",
    "print(round(prob_fail_C,2))"
   ]
  },
  {
   "cell_type": "markdown",
   "metadata": {
    "collapsed": true
   },
   "source": [
    "**10. The probabilities that a machine will produce 2, 5, 7, 9 defective batteries in a day are 0.3, 0.22, 0.15, 0.1 respectively. Find the expected number of defective batteries produced in a day.**\n"
   ]
  },
  {
   "cell_type": "code",
   "execution_count": null,
   "metadata": {},
   "outputs": [],
   "source": [
    "A = np.array([2, 5, 7, 9])\n",
    "prob_A = np.array([0.3, 0.22, 0.15, 0.1])\n",
    "print(np.sum(A*prob_A))"
   ]
  },
  {
   "cell_type": "markdown",
   "metadata": {
    "collapsed": true
   },
   "source": [
    "**11. In a pack of 52 cards, what is the probability of selecting a red card?**\n"
   ]
  },
  {
   "cell_type": "code",
   "execution_count": null,
   "metadata": {},
   "outputs": [],
   "source": [
    "red_card = 26\n",
    "deck = 52\n",
    "\n",
    "print(red_card/deck)"
   ]
  },
  {
   "cell_type": "markdown",
   "metadata": {
    "collapsed": true
   },
   "source": [
    "**12. From the experience, it is seen that 4% of the tyres produced by the machine are defective. Out of the 10 tyres produced, find the probability that at most 3 are defective.**"
   ]
  },
  {
   "cell_type": "code",
   "execution_count": null,
   "metadata": {},
   "outputs": [],
   "source": [
    "print(stats.binom.cdf(3,10,0.04))"
   ]
  },
  {
   "cell_type": "markdown",
   "metadata": {
    "collapsed": true
   },
   "source": [
    "**13. The number of trucks crossing a bridge during the day follow a Poisson distribution with mean 18. What is the probability that on a randomly selected day 12 trucks would have crossed the bridge?**\n"
   ]
  },
  {
   "cell_type": "code",
   "execution_count": null,
   "metadata": {},
   "outputs": [],
   "source": [
    "prob = stats.poisson.pmf(12, 18)\n",
    "prob"
   ]
  },
  {
   "cell_type": "markdown",
   "metadata": {
    "collapsed": true
   },
   "source": [
    "**14. A random variable follows uniform distribution in the interval 5 to 10. Obtain the mean and variance.** \n"
   ]
  },
  {
   "cell_type": "code",
   "execution_count": null,
   "metadata": {},
   "outputs": [],
   "source": [
    "low=5\n",
    "high =10\n",
    "mean = (high-low)/2\n",
    "variance=(high-low)**2/12\n",
    "\n",
    "print(\"mean:-\",mean,\"variance\",variance)"
   ]
  },
  {
   "cell_type": "markdown",
   "metadata": {
    "collapsed": true
   },
   "source": [
    "**15. Consider an random variable that follows normal distribution with mean 5 and variance 10 obtain:**\n",
    "\n",
    "**1. P(X < 1)**\n",
    "\n",
    "**2. P(X > 5)**\n",
    "\n",
    "**3. P(3 < X < 7)**\n"
   ]
  },
  {
   "cell_type": "code",
   "execution_count": null,
   "metadata": {},
   "outputs": [],
   "source": [
    "mean = 5\n",
    "variance = 10\n",
    "std = math.sqrt(variance)\n",
    "print(f\"case 1st, {stats.norm.cdf(1,mean,std)}\")\n",
    "print(f\"case 2nd, {1-stats.norm.cdf(5,mean,std)}\")\n",
    "print(f\"case 3rd, {stats.norm.cdf((7 - mean) / std) - stats.norm.cdf((3 - mean) / std)}\")\n"
   ]
  },
  {
   "cell_type": "markdown",
   "metadata": {
    "collapsed": true
   },
   "source": [
    "**16. Consider the data given below. Can we claim that the average number of fruits on a tree is 70?**\n"
   ]
  },
  {
   "cell_type": "markdown",
   "metadata": {},
   "source": [
    "            Consider number of fruits on a tree:\n",
    "\n",
    "            number_fruits = [64, 56, 48, 56, 79, 67, 65, 86, 87, 53, 67, 89, 65, 42, 46]"
   ]
  },
  {
   "cell_type": "code",
   "execution_count": null,
   "metadata": {},
   "outputs": [],
   "source": [
    "from scipy.stats import ttest_1samp\n",
    "\n",
    "number_fruits = pd.Series([64, 56, 48, 56, 79, 67, 65, 86, 87, 53, 67, 89, 65, 42, 46])\n",
    "\n",
    "ttest_1samp(number_fruits, 70)"
   ]
  },
  {
   "cell_type": "markdown",
   "metadata": {
    "collapsed": true
   },
   "source": [
    "**17. The courier company has two offices in NYC. They are interested to know which office is busier. The number of parcels received for 15 days is given below. Can we claim that both offices are equally busy?**\n"
   ]
  },
  {
   "cell_type": "markdown",
   "metadata": {},
   "source": [
    "            Consider the number of parcels in office A:\n",
    "            office_A = [26, 56, 48, 56, 79, 67, 35, 46, 87, 53, 67, 89, 65, 42, 34]\n",
    "\n",
    "            Consider the number of parcels in office B:\n",
    "            office_B = [34, 45, 87, 57, 45, 42, 34, 45, 34, 67, 89, 43, 87, 95, 95]"
   ]
  },
  {
   "cell_type": "code",
   "execution_count": null,
   "metadata": {},
   "outputs": [],
   "source": [
    "\n",
    "office_A = pd.Series([26, 56, 48, 56, 79, 67, 35, 46, 87, 53, 67, 89, 65, 42, 34])\n",
    "office_B = pd.Series([34, 45, 87, 57, 45, 42, 34, 45, 34, 67, 89, 43, 87, 95, 95])\n",
    "stats.ttest_ind(office_A , office_B)"
   ]
  },
  {
   "cell_type": "markdown",
   "metadata": {
    "collapsed": true
   },
   "source": [
    "**18. To improve the attitude of officers, they had to complete a training program. Can we claim that the training program was effective?**\n"
   ]
  },
  {
   "cell_type": "markdown",
   "metadata": {},
   "source": [
    "The data of 10 officers scores is given below:\n",
    "\n",
    "<table>\n",
    "    <tr>\n",
    "        <th> Officer </th>\n",
    "        <th> Attitude Before </th>\n",
    "        <th> Attitude After </th>\n",
    "    </tr>\n",
    "     <tr>\n",
    "        <td> 1 </td>\n",
    "        <td> 3 </td>\n",
    "        <td> 4 </td>\n",
    "    </tr>\n",
    "    <tr>\n",
    "        <td> 2 </td>\n",
    "        <td> 5 </td>\n",
    "        <td> 5 </td>\n",
    "    </tr>\n",
    "    <tr>\n",
    "        <td> 3 </td>\n",
    "        <td> 2 </td>\n",
    "        <td> 3 </td>\n",
    "    </tr>\n",
    "    <tr>\n",
    "        <td> 4 </td>\n",
    "        <td> 2 </td>\n",
    "        <td> 4 </td>\n",
    "    </tr>\n",
    "    <tr>\n",
    "        <td> 5 </td>\n",
    "        <td> 4 </td>\n",
    "        <td> 4 </td>\n",
    "    </tr>\n",
    "    <tr>\n",
    "        <td> 6 </td>\n",
    "        <td> 4 </td>\n",
    "        <td> 4 </td>\n",
    "    </tr>\n",
    "    <tr>\n",
    "        <td> 7 </td>\n",
    "        <td> 3 </td>\n",
    "        <td> 3 </td>\n",
    "    </tr>\n",
    "    <tr>\n",
    "        <td> 8 </td>\n",
    "        <td> 5 </td>\n",
    "        <td> 2 </td>\n",
    "    </tr>\n",
    "    <tr>\n",
    "        <td> 9 </td>\n",
    "        <td> 3 </td>\n",
    "        <td> 2 </td>\n",
    "    </tr>\n",
    "    <tr>\n",
    "        <td> 10 </td>\n",
    "        <td> 4 </td>\n",
    "        <td> 5 </td>\n",
    "    </tr>\n",
    "</table>"
   ]
  },
  {
   "cell_type": "code",
   "execution_count": null,
   "metadata": {},
   "outputs": [],
   "source": [
    "attitude_before = [3 ,5 ,2 ,2 ,4 ,4 ,3 ,5 ,3 ,4]\n",
    "attitude_after = [4 ,5 ,3 ,4 ,4 ,4 ,3 ,2 ,2 ,5]\n",
    "stats.ttest_rel(attitude_before , attitude_after)"
   ]
  },
  {
   "cell_type": "markdown",
   "metadata": {
    "collapsed": true
   },
   "source": [
    "**19. During an economic crisis, a researcher thought that the salaries of IT professionals are affected. Test whether the average monthly salary has gone below 65000 dollars.**\n"
   ]
  },
  {
   "cell_type": "markdown",
   "metadata": {},
   "source": [
    "            Salaries of corporate professionals in thousand dollars:\n",
    "\n",
    "            salary = [56, 48, 56, 79, 67, 55, 46, 87, 53, 67, 89, 65, 62, 45, 87, 57, 45, \n",
    "                      42, 45, 67, 89, 43, 87, 95, 92, 56, 67, 89, 54, 62, 78, 43, 76, 65,\n",
    "                      56, 58, 98, 56, 78, 79, 45, 34, 35, 46, 47, 67, 37, 45, 51, 65, 65]"
   ]
  },
  {
   "cell_type": "code",
   "execution_count": null,
   "metadata": {},
   "outputs": [],
   "source": [
    "\n",
    "salaries = pd.Series([56, 48, 56, 79, 67, 55, 46, 87, 53, 67, 89, 65, 62, 45, 87, 57, 45, \n",
    "                      42, 45, 67, 89, 43, 87, 95, 92, 56, 67, 89, 54, 62, 78, 43, 76, 65,\n",
    "                      56, 58, 98, 56, 78, 79, 45, 34, 35, 46, 47, 67, 37, 45, 51, 65, 65])\n",
    "\n",
    "from statsmodels.stats import weightstats as stests\n",
    "\n",
    "stests.ztest(salaries, value = 65, alternative = \"smaller\")"
   ]
  },
  {
   "cell_type": "markdown",
   "metadata": {
    "collapsed": true
   },
   "source": [
    "**20. Consider the data given below. Can we conclude that the data is normally distributed?**\n"
   ]
  },
  {
   "cell_type": "markdown",
   "metadata": {},
   "source": [
    "            Consider number of fruits on a tree:\n",
    "            number_fruits = [64, 56, 48, 56, 79, 67, 65, 86, 87, 53, 67, 89, 65, 42, 46]"
   ]
  },
  {
   "cell_type": "code",
   "execution_count": null,
   "metadata": {},
   "outputs": [],
   "source": [
    "from scipy.stats import shapiro\n",
    "fruits = [64, 56, 48, 56, 79, 67, 65, 86, 87, 53, 67, 89, 65, 42, 46]\n",
    "\n",
    "shapiro(fruits)"
   ]
  },
  {
   "cell_type": "code",
   "execution_count": null,
   "metadata": {},
   "outputs": [],
   "source": []
  },
  {
   "cell_type": "code",
   "execution_count": null,
   "metadata": {},
   "outputs": [],
   "source": []
  },
  {
   "cell_type": "code",
   "execution_count": null,
   "metadata": {},
   "outputs": [],
   "source": []
  }
 ],
 "metadata": {
  "kernelspec": {
   "display_name": "Python 3 (ipykernel)",
   "language": "python",
   "name": "python3"
  },
  "language_info": {
   "codemirror_mode": {
    "name": "ipython",
    "version": 3
   },
   "file_extension": ".py",
   "mimetype": "text/x-python",
   "name": "python",
   "nbconvert_exporter": "python",
   "pygments_lexer": "ipython3",
   "version": "3.11.4"
  }
 },
 "nbformat": 4,
 "nbformat_minor": 2
}
